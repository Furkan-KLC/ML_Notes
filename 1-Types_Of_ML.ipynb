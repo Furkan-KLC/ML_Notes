{
 "cells": [
  {
   "cell_type": "markdown",
   "id": "3bacce66",
   "metadata": {},
   "source": [
    "Types of machine learning classified by:\n",
    "- whether or not they are trained with human supervisor (supervised,unsupervised,semi-supervised,reinforcement learning)\n",
    "\n",
    "- whether or not they can learn incrementally(online versus batch learning) \n",
    "\n",
    "- Whether they work by simply comparing new data points to known data points,or instead detect patterns in the training data and build a predictive model, much like scientists do  (instance-based versus model-based learning)"
   ]
  },
  {
   "cell_type": "markdown",
   "id": "73cc8b34",
   "metadata": {},
   "source": [
    "Supervised,Unsupervised,Semi-Supervised,Reinforced learning:\n",
    "- In supervised learning, the training data you feed to the algorithm includes the desired solutions, called labels,data has label\n",
    "- In unsupervised learning, as you might guess, the training data is unlabeled\n",
    "- Some algorithms can deal with partially labeled training data, usually a lot of unlabeled data and a little bit of labeled data. This is called semisupervised learning\n",
    "- In reinforced learning The learning system, called an agent in this context, can observe the environment, select and perform actions, and get rewards in return\n"
   ]
  },
  {
   "cell_type": "markdown",
   "id": "ebfbaafd",
   "metadata": {},
   "source": [
    "Supervised-learning Algorithms:\n",
    "- k-Nearest Neighbors\n",
    "- Linear Regression\n",
    "- Logistic Regression\n",
    "- Support Vector Machines (SVMs)\n",
    "- Decision Trees and Random Forests\n",
    "- Neural networks"
   ]
  },
  {
   "cell_type": "markdown",
   "id": "098db90e",
   "metadata": {},
   "source": [
    "Unsupervised-Learning Algorithms:\n",
    "- Clustering:\n",
    "- K-Means\n",
    "- DBSCAN\n",
    "- Hierarchical Cluster Analysis (HCA)\n",
    "- Anomaly detection and novelty detection:\n",
    "- One-class SVM\n",
    "- Isolation Forest\n",
    "- Visualization and dimensionality reduction:\n",
    "- Principal Component Analysis (PCA)\n",
    "- Kernel PCA\n",
    "- Locally-Linear Embedding (LLE)\n",
    "- t-distributed Stochastic Neighbor Embedding (t-SNE)\n",
    "- Association rule learning:\n",
    "- Apriori\n",
    "- Eclat"
   ]
  },
  {
   "cell_type": "markdown",
   "id": "c98fa04d",
   "metadata": {},
   "source": [
    "Semi-Supervised Algorithms:\n",
    "- deep belief networks (DBNs) \n",
    "- restricted Boltzmann machines (RBMs)\n",
    "- Most semisupervised learning algorithms are combinations of unsupervised and supervised algorithms"
   ]
  },
  {
   "cell_type": "markdown",
   "id": "34a84268",
   "metadata": {},
   "source": [
    "Batch and online Learning\n",
    "- First the system is trained, and then it is launched into production and runs without learning anymore; it just applies what it has learned. This is called batch (offline) learning\n",
    "- In online learning, you train the system incrementally by feeding it data instances sequentially , either individually or by small groups called mini-batches"
   ]
  },
  {
   "cell_type": "markdown",
   "id": "63fe7e07",
   "metadata": {},
   "source": [
    "Instance Based - Model Based\n",
    "- instance-based learning: the system learns the examples by heart, then generalizes to new cases by comparing them to the learned examples\n",
    "- Another way to generalize from a set of examples is to build a model of these examples, then use that model to make predictions. This is called model-based learning\n",
    "\n"
   ]
  },
  {
   "cell_type": "code",
   "execution_count": null,
   "id": "d4bc742e",
   "metadata": {},
   "outputs": [],
   "source": []
  }
 ],
 "metadata": {
  "kernelspec": {
   "display_name": "Python 3",
   "language": "python",
   "name": "python3"
  },
  "language_info": {
   "codemirror_mode": {
    "name": "ipython",
    "version": 3
   },
   "file_extension": ".py",
   "mimetype": "text/x-python",
   "name": "python",
   "nbconvert_exporter": "python",
   "pygments_lexer": "ipython3",
   "version": "3.13.7"
  }
 },
 "nbformat": 4,
 "nbformat_minor": 5
}
