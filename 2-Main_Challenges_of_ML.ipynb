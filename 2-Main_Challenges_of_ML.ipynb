{
 "cells": [
  {
   "cell_type": "markdown",
   "id": "58fbb419",
   "metadata": {},
   "source": [
    "Main Challenges of Machine Learning"
   ]
  },
  {
   "cell_type": "markdown",
   "id": "df70ee42",
   "metadata": {},
   "source": [
    "Nonrepresentative Training Data\n",
    "- In order to generalize well, it is crucial that your training data be representative of the new cases you want to generalize to. This is true whether you use instance-based learning or model-based learning.\n",
    "- It is crucial to use a training set that is representative of the cases you want to generalize to "
   ]
  },
  {
   "cell_type": "markdown",
   "id": "ee024a4c",
   "metadata": {},
   "source": [
    "Poor-Quality Data:\n",
    "- If some instances are clearly outliers, it may help to simply discard them or try to fix the errors manually.\n",
    "- If some instances are missing a few features , you must decide whether you want to ignore this attribute altogether, ignore these instances, fill in the missing values or train one model with the feature and one model without it, and so on."
   ]
  },
  {
   "cell_type": "markdown",
   "id": "5c074f10",
   "metadata": {},
   "source": [
    "Irrelevant Features:\n",
    "- Your system will only be capable of learning if the training data contains enough relevant features and not too many irrelevant ones. A critical part of the success of a Machine Learning project is coming up with a good set of features to train on\n",
    " -  This process, called feature engineering, involves:\n",
    " - Feature selection: selecting the most useful features to train on among existing features.\n",
    "- Feature extraction: combining existing features to produce a more useful one.\n",
    "- Creating new features by gathering new data.\n"
   ]
  },
  {
   "cell_type": "markdown",
   "id": "5b2d7a83",
   "metadata": {},
   "source": [
    "- Overfitting the Training Data:\n",
    "- In Machine Learning this is called overfitting: it means that the model performs well on the training data, but it does not generalize well.\n",
    "- Overfitting happens when the model is too complex relative to the amount and noisiness of the training data. The possible solutions are:\n",
    "- To simplify the model by selecting one with fewer parameters (e.g., a linear model rather than a high-degree polynomial model), by reducing the number of attributes in the training data or by constraining the model\n",
    " - To gather more training data\n",
    " - To reduce the noise in the training data (e.g., fix data errors and remove outliers)\n",
    "\n",
    "\n"
   ]
  },
  {
   "cell_type": "markdown",
   "id": "7480f8e5",
   "metadata": {},
   "source": [
    "- Underfitting the Training Data:\n",
    "-  Selecting a more powerful model, with more parameters\n",
    "- Feeding better features to the learning algorithm (feature engineering)\n",
    "- Reducing the constraints on the model (e.g., reducing the regularization hyper‐parameter)\n"
   ]
  },
  {
   "cell_type": "markdown",
   "id": "2507e290",
   "metadata": {},
   "source": [
    "Testing and Validating: \n",
    "- A better option is to split your data into two sets: the training set and the test set. As these names imply, you train your model using the training set, and you test it using the test set. \n",
    "- The error rate on new cases is called the generalization error (or out-ofsample error), and by evaluating your model on the test set, you get an estimate of this error. This value tells you how well your model will perform on instances it has never seen before.\n",
    "- If the training error is low  but the generalization error is high, it means that your model is overfitting the training data.\n"
   ]
  },
  {
   "cell_type": "code",
   "execution_count": null,
   "id": "cd755c44",
   "metadata": {},
   "outputs": [],
   "source": []
  }
 ],
 "metadata": {
  "kernelspec": {
   "display_name": "Python 3",
   "language": "python",
   "name": "python3"
  },
  "language_info": {
   "codemirror_mode": {
    "name": "ipython",
    "version": 3
   },
   "file_extension": ".py",
   "mimetype": "text/x-python",
   "name": "python",
   "nbconvert_exporter": "python",
   "pygments_lexer": "ipython3",
   "version": "3.13.7"
  }
 },
 "nbformat": 4,
 "nbformat_minor": 5
}
